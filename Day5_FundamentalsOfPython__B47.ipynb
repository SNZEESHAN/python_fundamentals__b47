{
 "cells": [
  {
   "cell_type": "code",
   "execution_count": null,
   "id": "f6ad757a",
   "metadata": {},
   "outputs": [],
   "source": [
    "Organising the list datatype"
   ]
  },
  {
   "cell_type": "code",
   "execution_count": 4,
   "id": "90c30035",
   "metadata": {},
   "outputs": [
    {
     "name": "stdout",
     "output_type": "stream",
     "text": [
      "['toyota', 'audi', 'maruthi', 'suzuki', 'kia', 'mercedes', 'bmw', 'bugatti', 'hyundai']\n"
     ]
    }
   ],
   "source": [
    "cars = ['toyota', 'audi', 'maruthi', 'suzuki', 'kia', 'mercedes', 'bmw','bugatti', 'hyundai']\n",
    "print(cars)"
   ]
  },
  {
   "cell_type": "code",
   "execution_count": null,
   "id": "4b65b8b4",
   "metadata": {},
   "outputs": [],
   "source": [
    "# solution, we can do the organization with 2 possible approaches. \n",
    "\n",
    "1) temporary approach --------> sorted\n",
    "2) permanent approach --------> sort"
   ]
  },
  {
   "cell_type": "code",
   "execution_count": 5,
   "id": "df6ad6a5",
   "metadata": {},
   "outputs": [
    {
     "name": "stdout",
     "output_type": "stream",
     "text": [
      "['audi', 'bmw', 'bugatti', 'hyundai', 'kia', 'maruthi', 'mercedes', 'suzuki', 'toyota']\n"
     ]
    }
   ],
   "source": [
    "print(sorted(cars))"
   ]
  },
  {
   "cell_type": "code",
   "execution_count": 6,
   "id": "a959f333",
   "metadata": {},
   "outputs": [
    {
     "name": "stdout",
     "output_type": "stream",
     "text": [
      "['toyota', 'audi', 'maruthi', 'suzuki', 'kia', 'mercedes', 'bmw', 'bugatti', 'hyundai']\n"
     ]
    }
   ],
   "source": [
    "# Understanding : In the temporary approach we will be having the alphabetical order of the list. This \"sorted\" datatype will not make it permanent\n",
    "# So if I enter print() statement again, it will display the original order which is in In [4]\n",
    "\n",
    "print(cars)"
   ]
  },
  {
   "cell_type": "code",
   "execution_count": 7,
   "id": "b3e22edd",
   "metadata": {},
   "outputs": [
    {
     "name": "stdout",
     "output_type": "stream",
     "text": [
      "['audi', 'bmw', 'bugatti', 'hyundai', 'kia', 'maruthi', 'mercedes', 'suzuki', 'toyota']\n"
     ]
    }
   ],
   "source": [
    "# permanent approach\n",
    "\n",
    "cars.sort() # here, the sort changes are made permanently. \n",
    "\n",
    "print(cars)"
   ]
  },
  {
   "cell_type": "code",
   "execution_count": 8,
   "id": "f066743f",
   "metadata": {},
   "outputs": [
    {
     "name": "stdout",
     "output_type": "stream",
     "text": [
      "['audi', 'bmw', 'bugatti', 'hyundai', 'kia', 'maruthi', 'mercedes', 'suzuki', 'toyota']\n"
     ]
    }
   ],
   "source": [
    "print(cars)"
   ]
  },
  {
   "cell_type": "code",
   "execution_count": null,
   "id": "8664ebdf",
   "metadata": {},
   "outputs": [],
   "source": [
    "# Understanding (Interview Question) : Sorted organises list in an alphabetical order temporarily, whereas, Sort organises list permanently."
   ]
  },
  {
   "cell_type": "code",
   "execution_count": 9,
   "id": "f656763c",
   "metadata": {},
   "outputs": [
    {
     "name": "stdout",
     "output_type": "stream",
     "text": [
      "['toyota', 'suzuki', 'mercedes', 'maruthi', 'kia', 'hyundai', 'bugatti', 'bmw', 'audi']\n"
     ]
    }
   ],
   "source": [
    "# Req : How to print the list in reverse order. To do so, use \"reverse\"\n",
    "\n",
    "cars.reverse()\n",
    "print(cars)\n",
    "\n",
    "# We returned the Output in a reversed alphabetical order."
   ]
  },
  {
   "cell_type": "code",
   "execution_count": 10,
   "id": "d06fa080",
   "metadata": {},
   "outputs": [
    {
     "data": {
      "text/plain": [
       "9"
      ]
     },
     "execution_count": 10,
     "metadata": {},
     "output_type": "execute_result"
    }
   ],
   "source": [
    "# Req : How to count the number of elements present in the list ?\n",
    "\n",
    "len(cars)"
   ]
  },
  {
   "cell_type": "code",
   "execution_count": 24,
   "id": "f5d09927",
   "metadata": {},
   "outputs": [],
   "source": [
    "import this"
   ]
  },
  {
   "cell_type": "code",
   "execution_count": null,
   "id": "00e967e1",
   "metadata": {},
   "outputs": [],
   "source": []
  },
  {
   "cell_type": "code",
   "execution_count": null,
   "id": "835bfd5c",
   "metadata": {},
   "outputs": [],
   "source": []
  },
  {
   "cell_type": "code",
   "execution_count": null,
   "id": "2364c038",
   "metadata": {},
   "outputs": [],
   "source": []
  },
  {
   "cell_type": "code",
   "execution_count": null,
   "id": "0489b708",
   "metadata": {},
   "outputs": [],
   "source": []
  },
  {
   "cell_type": "code",
   "execution_count": null,
   "id": "cf936e54",
   "metadata": {},
   "outputs": [],
   "source": []
  },
  {
   "cell_type": "code",
   "execution_count": null,
   "id": "07266498",
   "metadata": {},
   "outputs": [],
   "source": []
  },
  {
   "cell_type": "code",
   "execution_count": null,
   "id": "eff56916",
   "metadata": {},
   "outputs": [],
   "source": []
  },
  {
   "cell_type": "code",
   "execution_count": null,
   "id": "ba0d290c",
   "metadata": {},
   "outputs": [],
   "source": []
  }
 ],
 "metadata": {
  "kernelspec": {
   "display_name": "Python 3",
   "language": "python",
   "name": "python3"
  },
  "language_info": {
   "codemirror_mode": {
    "name": "ipython",
    "version": 3
   },
   "file_extension": ".py",
   "mimetype": "text/x-python",
   "name": "python",
   "nbconvert_exporter": "python",
   "pygments_lexer": "ipython3",
   "version": "3.8.8"
  }
 },
 "nbformat": 4,
 "nbformat_minor": 5
}
